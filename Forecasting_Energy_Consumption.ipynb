{
 "cells": [
  {
   "cell_type": "code",
   "execution_count": 1,
   "metadata": {},
   "outputs": [],
   "source": [
    "import numpy as np\n",
    "import pandas as pd\n",
    "import matplotlib.pyplot as plt\n",
    "import seaborn as sns\n",
    "sns.set_style('darkgrid')\n",
    "import warnings\n",
    "import lightgbm as lgb\n",
    "import datetime as dt\n",
    "import matplotlib.dates as mdates\n",
    "warnings.filterwarnings('ignore')\n",
    "from sklearn.metrics import mean_squared_error,r2_score\n",
    "from math import sqrt"
   ]
  },
  {
   "cell_type": "code",
   "execution_count": 2,
   "metadata": {},
   "outputs": [
    {
     "name": "stdout",
     "output_type": "stream",
     "text": [
      "CPU times: user 15.2 s, sys: 2.19 s, total: 17.4 s\n",
      "Wall time: 17.6 s\n"
     ]
    }
   ],
   "source": [
    "%%time\n",
    "root = '/Users/yuyizhang/Documents/forecasting/Energy_Data/Forecasting Energy Consumption_data/'\n",
    "holidays=pd.read_csv(root + 'holidays.csv')\n",
    "metadata=pd.read_csv(root + 'metadata.csv')\n",
    "train=pd.read_csv(root + 'train.csv')\n",
    "weather=pd.read_csv(root + 'weather.csv')"
   ]
  },
  {
   "cell_type": "code",
   "execution_count": 3,
   "metadata": {},
   "outputs": [],
   "source": [
    "holidays = holidays.rename(columns={\"Date\": \"Timestamp\"})"
   ]
  },
  {
   "cell_type": "code",
   "execution_count": 4,
   "metadata": {},
   "outputs": [],
   "source": [
    "#format datetime\n",
    "holidays['Timestamp']= pd.to_datetime(holidays['Timestamp'],format='%d/%m/%Y')\n",
    "train['Timestamp']= pd.to_datetime(train['Timestamp'],format='%Y-%m-%d %H:%M:%S')\n",
    "weather['Timestamp']= pd.to_datetime(weather['Timestamp'],format='%Y-%m-%d %H:%M:%S')"
   ]
  },
  {
   "cell_type": "code",
   "execution_count": 5,
   "metadata": {},
   "outputs": [
    {
     "data": {
      "text/html": [
       "<div>\n",
       "<style scoped>\n",
       "    .dataframe tbody tr th:only-of-type {\n",
       "        vertical-align: middle;\n",
       "    }\n",
       "\n",
       "    .dataframe tbody tr th {\n",
       "        vertical-align: top;\n",
       "    }\n",
       "\n",
       "    .dataframe thead th {\n",
       "        text-align: right;\n",
       "    }\n",
       "</style>\n",
       "<table border=\"1\" class=\"dataframe\">\n",
       "  <thead>\n",
       "    <tr style=\"text-align: right;\">\n",
       "      <th></th>\n",
       "      <th>obs_id</th>\n",
       "      <th>SiteId</th>\n",
       "      <th>Timestamp</th>\n",
       "      <th>ForecastId</th>\n",
       "      <th>Value</th>\n",
       "    </tr>\n",
       "  </thead>\n",
       "  <tbody>\n",
       "    <tr>\n",
       "      <th>0</th>\n",
       "      <td>744519</td>\n",
       "      <td>1</td>\n",
       "      <td>2014-09-03 00:00:00</td>\n",
       "      <td>1</td>\n",
       "      <td>9.096555e+05</td>\n",
       "    </tr>\n",
       "    <tr>\n",
       "      <th>1</th>\n",
       "      <td>7627564</td>\n",
       "      <td>1</td>\n",
       "      <td>2014-09-04 00:00:00</td>\n",
       "      <td>1</td>\n",
       "      <td>1.748273e+06</td>\n",
       "    </tr>\n",
       "    <tr>\n",
       "      <th>2</th>\n",
       "      <td>7034705</td>\n",
       "      <td>1</td>\n",
       "      <td>2014-09-05 00:00:00</td>\n",
       "      <td>1</td>\n",
       "      <td>NaN</td>\n",
       "    </tr>\n",
       "    <tr>\n",
       "      <th>3</th>\n",
       "      <td>5995486</td>\n",
       "      <td>1</td>\n",
       "      <td>2014-09-06 00:00:00</td>\n",
       "      <td>1</td>\n",
       "      <td>NaN</td>\n",
       "    </tr>\n",
       "    <tr>\n",
       "      <th>4</th>\n",
       "      <td>7326510</td>\n",
       "      <td>1</td>\n",
       "      <td>2014-09-07 00:00:00</td>\n",
       "      <td>1</td>\n",
       "      <td>NaN</td>\n",
       "    </tr>\n",
       "    <tr>\n",
       "      <th>...</th>\n",
       "      <td>...</td>\n",
       "      <td>...</td>\n",
       "      <td>...</td>\n",
       "      <td>...</td>\n",
       "      <td>...</td>\n",
       "    </tr>\n",
       "    <tr>\n",
       "      <th>6559825</th>\n",
       "      <td>2344172</td>\n",
       "      <td>305</td>\n",
       "      <td>2015-11-19 11:30:00</td>\n",
       "      <td>6974</td>\n",
       "      <td>3.824641e+03</td>\n",
       "    </tr>\n",
       "    <tr>\n",
       "      <th>6559826</th>\n",
       "      <td>5113853</td>\n",
       "      <td>305</td>\n",
       "      <td>2015-11-19 11:45:00</td>\n",
       "      <td>6974</td>\n",
       "      <td>3.766131e+03</td>\n",
       "    </tr>\n",
       "    <tr>\n",
       "      <th>6559827</th>\n",
       "      <td>5227641</td>\n",
       "      <td>305</td>\n",
       "      <td>2015-11-19 12:00:00</td>\n",
       "      <td>6974</td>\n",
       "      <td>3.736505e+03</td>\n",
       "    </tr>\n",
       "    <tr>\n",
       "      <th>6559828</th>\n",
       "      <td>3750622</td>\n",
       "      <td>305</td>\n",
       "      <td>2015-11-19 12:15:00</td>\n",
       "      <td>6974</td>\n",
       "      <td>3.816494e+03</td>\n",
       "    </tr>\n",
       "    <tr>\n",
       "      <th>6559829</th>\n",
       "      <td>2559139</td>\n",
       "      <td>305</td>\n",
       "      <td>2015-11-19 12:30:00</td>\n",
       "      <td>6974</td>\n",
       "      <td>4.269763e+03</td>\n",
       "    </tr>\n",
       "  </tbody>\n",
       "</table>\n",
       "<p>6559830 rows × 5 columns</p>\n",
       "</div>"
      ],
      "text/plain": [
       "          obs_id  SiteId           Timestamp  ForecastId         Value\n",
       "0         744519       1 2014-09-03 00:00:00           1  9.096555e+05\n",
       "1        7627564       1 2014-09-04 00:00:00           1  1.748273e+06\n",
       "2        7034705       1 2014-09-05 00:00:00           1           NaN\n",
       "3        5995486       1 2014-09-06 00:00:00           1           NaN\n",
       "4        7326510       1 2014-09-07 00:00:00           1           NaN\n",
       "...          ...     ...                 ...         ...           ...\n",
       "6559825  2344172     305 2015-11-19 11:30:00        6974  3.824641e+03\n",
       "6559826  5113853     305 2015-11-19 11:45:00        6974  3.766131e+03\n",
       "6559827  5227641     305 2015-11-19 12:00:00        6974  3.736505e+03\n",
       "6559828  3750622     305 2015-11-19 12:15:00        6974  3.816494e+03\n",
       "6559829  2559139     305 2015-11-19 12:30:00        6974  4.269763e+03\n",
       "\n",
       "[6559830 rows x 5 columns]"
      ]
     },
     "execution_count": 5,
     "metadata": {},
     "output_type": "execute_result"
    }
   ],
   "source": [
    "train"
   ]
  },
  {
   "cell_type": "code",
   "execution_count": 6,
   "metadata": {},
   "outputs": [],
   "source": [
    "merge_df = pd.merge(train,metadata,how = 'outer',on = ['SiteId'])\n",
    "merge_df = merge_df.dropna(axis = 0, how = 'any')"
   ]
  },
  {
   "cell_type": "code",
   "execution_count": null,
   "metadata": {},
   "outputs": [],
   "source": []
  },
  {
   "cell_type": "code",
   "execution_count": 7,
   "metadata": {},
   "outputs": [],
   "source": [
    "del train, metadata"
   ]
  },
  {
   "cell_type": "code",
   "execution_count": 8,
   "metadata": {},
   "outputs": [],
   "source": [
    "# Below function extracts date related features from datetime\n",
    "def create_date_featues_train(df):\n",
    "\n",
    "    df['Year'] = pd.to_datetime(merge_df['Timestamp']).dt.year\n",
    "    df['Month'] = pd.to_datetime(merge_df['Timestamp']).dt.month\n",
    "    df['Day'] = pd.to_datetime(merge_df['Timestamp']).dt.day\n",
    "    df['Hour'] = pd.to_datetime(merge_df['Timestamp']).dt.hour\n",
    "    df['Minute'] = pd.to_datetime(merge_df['Timestamp']).dt.minute\n",
    "    \n",
    "    return df"
   ]
  },
  {
   "cell_type": "code",
   "execution_count": 9,
   "metadata": {},
   "outputs": [],
   "source": [
    "merge_df = create_date_featues_train(merge_df)"
   ]
  },
  {
   "cell_type": "code",
   "execution_count": 10,
   "metadata": {},
   "outputs": [
    {
     "data": {
      "text/plain": [
       "(6473229, 20)"
      ]
     },
     "execution_count": 10,
     "metadata": {},
     "output_type": "execute_result"
    }
   ],
   "source": [
    "merge_df.shape"
   ]
  },
  {
   "cell_type": "code",
   "execution_count": 11,
   "metadata": {},
   "outputs": [
    {
     "data": {
      "text/plain": [
       "Index(['obs_id', 'SiteId', 'Timestamp', 'ForecastId', 'Value', 'Surface',\n",
       "       'Sampling', 'BaseTemperature', 'MondayIsDayOff', 'TuesdayIsDayOff',\n",
       "       'WednesdayIsDayOff', 'ThursdayIsDayOff', 'FridayIsDayOff',\n",
       "       'SaturdayIsDayOff', 'SundayIsDayOff', 'Year', 'Month', 'Day', 'Hour',\n",
       "       'Minute'],\n",
       "      dtype='object')"
      ]
     },
     "execution_count": 11,
     "metadata": {},
     "output_type": "execute_result"
    }
   ],
   "source": [
    "merge_df.columns"
   ]
  },
  {
   "cell_type": "code",
   "execution_count": 12,
   "metadata": {},
   "outputs": [],
   "source": [
    "df_train = pd.merge(merge_df,holidays,how = 'outer',on = ['Timestamp'])"
   ]
  },
  {
   "cell_type": "code",
   "execution_count": 13,
   "metadata": {},
   "outputs": [],
   "source": [
    "df_train['Holiday'] = df_train['Holiday'].replace(np.nan, 0)\n",
    "df_train = df_train.dropna(axis = 0, how = 'any')"
   ]
  },
  {
   "cell_type": "code",
   "execution_count": 14,
   "metadata": {},
   "outputs": [
    {
     "name": "stdout",
     "output_type": "stream",
     "text": [
      "(6473229, 28)\n"
     ]
    }
   ],
   "source": [
    "for col in ['Holiday']:\n",
    "    df_train = pd.get_dummies(df_train, columns=[col])\n",
    "for col in ['Sampling']:\n",
    "    merge_df = pd.get_dummies(merge_df, columns=[col])\n",
    "for col in ['BaseTemperature']:\n",
    "    merge_df = pd.get_dummies(merge_df, columns=[col])\n",
    "for col in ['MondayIsDayOff']:\n",
    "    merge_df = pd.get_dummies(merge_df, columns=[col])\n",
    "for col in ['TuesdayIsDayOff']:\n",
    "    merge_df = pd.get_dummies(merge_df, columns=[col]) \n",
    "for col in ['WednesdayIsDayOff']:\n",
    "    merge_df = pd.get_dummies(merge_df, columns=[col])\n",
    "for col in ['ThursdayIsDayOff']:\n",
    "    merge_df = pd.get_dummies(merge_df, columns=[col])\n",
    "for col in ['FridayIsDayOff']:\n",
    "    merge_df = pd.get_dummies(merge_df, columns=[col]) \n",
    "for col in ['SaturdayIsDayOff']:\n",
    "    merge_df = pd.get_dummies(merge_df, columns=[col])\n",
    "for col in ['SundayIsDayOff']:\n",
    "    merge_df = pd.get_dummies(merge_df, columns=[col]) \n",
    "print(merge_df.shape)"
   ]
  },
  {
   "cell_type": "code",
   "execution_count": 15,
   "metadata": {},
   "outputs": [],
   "source": [
    "data_reset = merge_df[merge_df['Timestamp']<'2013-10-30 00:00']"
   ]
  },
  {
   "cell_type": "code",
   "execution_count": 16,
   "metadata": {},
   "outputs": [
    {
     "data": {
      "text/html": [
       "<div>\n",
       "<style scoped>\n",
       "    .dataframe tbody tr th:only-of-type {\n",
       "        vertical-align: middle;\n",
       "    }\n",
       "\n",
       "    .dataframe tbody tr th {\n",
       "        vertical-align: top;\n",
       "    }\n",
       "\n",
       "    .dataframe thead th {\n",
       "        text-align: right;\n",
       "    }\n",
       "</style>\n",
       "<table border=\"1\" class=\"dataframe\">\n",
       "  <thead>\n",
       "    <tr style=\"text-align: right;\">\n",
       "      <th></th>\n",
       "      <th>obs_id</th>\n",
       "      <th>SiteId</th>\n",
       "      <th>Timestamp</th>\n",
       "      <th>ForecastId</th>\n",
       "      <th>Value</th>\n",
       "      <th>Surface</th>\n",
       "      <th>Year</th>\n",
       "      <th>Month</th>\n",
       "      <th>Day</th>\n",
       "      <th>Hour</th>\n",
       "      <th>...</th>\n",
       "      <th>MondayIsDayOff_False</th>\n",
       "      <th>TuesdayIsDayOff_False</th>\n",
       "      <th>WednesdayIsDayOff_False</th>\n",
       "      <th>ThursdayIsDayOff_False</th>\n",
       "      <th>FridayIsDayOff_False</th>\n",
       "      <th>FridayIsDayOff_True</th>\n",
       "      <th>SaturdayIsDayOff_False</th>\n",
       "      <th>SaturdayIsDayOff_True</th>\n",
       "      <th>SundayIsDayOff_False</th>\n",
       "      <th>SundayIsDayOff_True</th>\n",
       "    </tr>\n",
       "  </thead>\n",
       "  <tbody>\n",
       "    <tr>\n",
       "      <th>900</th>\n",
       "      <td>4382312</td>\n",
       "      <td>2</td>\n",
       "      <td>2013-01-01 01:00:00</td>\n",
       "      <td>5</td>\n",
       "      <td>3.015996e+04</td>\n",
       "      <td>6098.278376</td>\n",
       "      <td>2013</td>\n",
       "      <td>1</td>\n",
       "      <td>1</td>\n",
       "      <td>1</td>\n",
       "      <td>...</td>\n",
       "      <td>1</td>\n",
       "      <td>1</td>\n",
       "      <td>1</td>\n",
       "      <td>1</td>\n",
       "      <td>1</td>\n",
       "      <td>0</td>\n",
       "      <td>0</td>\n",
       "      <td>1</td>\n",
       "      <td>0</td>\n",
       "      <td>1</td>\n",
       "    </tr>\n",
       "    <tr>\n",
       "      <th>901</th>\n",
       "      <td>2016541</td>\n",
       "      <td>2</td>\n",
       "      <td>2013-01-01 02:00:00</td>\n",
       "      <td>5</td>\n",
       "      <td>2.979354e+04</td>\n",
       "      <td>6098.278376</td>\n",
       "      <td>2013</td>\n",
       "      <td>1</td>\n",
       "      <td>1</td>\n",
       "      <td>2</td>\n",
       "      <td>...</td>\n",
       "      <td>1</td>\n",
       "      <td>1</td>\n",
       "      <td>1</td>\n",
       "      <td>1</td>\n",
       "      <td>1</td>\n",
       "      <td>0</td>\n",
       "      <td>0</td>\n",
       "      <td>1</td>\n",
       "      <td>0</td>\n",
       "      <td>1</td>\n",
       "    </tr>\n",
       "    <tr>\n",
       "      <th>902</th>\n",
       "      <td>78869</td>\n",
       "      <td>2</td>\n",
       "      <td>2013-01-01 03:00:00</td>\n",
       "      <td>5</td>\n",
       "      <td>3.168241e+04</td>\n",
       "      <td>6098.278376</td>\n",
       "      <td>2013</td>\n",
       "      <td>1</td>\n",
       "      <td>1</td>\n",
       "      <td>3</td>\n",
       "      <td>...</td>\n",
       "      <td>1</td>\n",
       "      <td>1</td>\n",
       "      <td>1</td>\n",
       "      <td>1</td>\n",
       "      <td>1</td>\n",
       "      <td>0</td>\n",
       "      <td>0</td>\n",
       "      <td>1</td>\n",
       "      <td>0</td>\n",
       "      <td>1</td>\n",
       "    </tr>\n",
       "    <tr>\n",
       "      <th>903</th>\n",
       "      <td>1361014</td>\n",
       "      <td>2</td>\n",
       "      <td>2013-01-01 04:00:00</td>\n",
       "      <td>5</td>\n",
       "      <td>2.988183e+04</td>\n",
       "      <td>6098.278376</td>\n",
       "      <td>2013</td>\n",
       "      <td>1</td>\n",
       "      <td>1</td>\n",
       "      <td>4</td>\n",
       "      <td>...</td>\n",
       "      <td>1</td>\n",
       "      <td>1</td>\n",
       "      <td>1</td>\n",
       "      <td>1</td>\n",
       "      <td>1</td>\n",
       "      <td>0</td>\n",
       "      <td>0</td>\n",
       "      <td>1</td>\n",
       "      <td>0</td>\n",
       "      <td>1</td>\n",
       "    </tr>\n",
       "    <tr>\n",
       "      <th>904</th>\n",
       "      <td>129169</td>\n",
       "      <td>2</td>\n",
       "      <td>2013-01-01 05:00:00</td>\n",
       "      <td>5</td>\n",
       "      <td>3.056033e+04</td>\n",
       "      <td>6098.278376</td>\n",
       "      <td>2013</td>\n",
       "      <td>1</td>\n",
       "      <td>1</td>\n",
       "      <td>5</td>\n",
       "      <td>...</td>\n",
       "      <td>1</td>\n",
       "      <td>1</td>\n",
       "      <td>1</td>\n",
       "      <td>1</td>\n",
       "      <td>1</td>\n",
       "      <td>0</td>\n",
       "      <td>0</td>\n",
       "      <td>1</td>\n",
       "      <td>0</td>\n",
       "      <td>1</td>\n",
       "    </tr>\n",
       "    <tr>\n",
       "      <th>...</th>\n",
       "      <td>...</td>\n",
       "      <td>...</td>\n",
       "      <td>...</td>\n",
       "      <td>...</td>\n",
       "      <td>...</td>\n",
       "      <td>...</td>\n",
       "      <td>...</td>\n",
       "      <td>...</td>\n",
       "      <td>...</td>\n",
       "      <td>...</td>\n",
       "      <td>...</td>\n",
       "      <td>...</td>\n",
       "      <td>...</td>\n",
       "      <td>...</td>\n",
       "      <td>...</td>\n",
       "      <td>...</td>\n",
       "      <td>...</td>\n",
       "      <td>...</td>\n",
       "      <td>...</td>\n",
       "      <td>...</td>\n",
       "      <td>...</td>\n",
       "    </tr>\n",
       "    <tr>\n",
       "      <th>6557319</th>\n",
       "      <td>5653279</td>\n",
       "      <td>303</td>\n",
       "      <td>2013-10-25 00:00:00</td>\n",
       "      <td>6966</td>\n",
       "      <td>1.054313e+07</td>\n",
       "      <td>17934.445927</td>\n",
       "      <td>2013</td>\n",
       "      <td>10</td>\n",
       "      <td>25</td>\n",
       "      <td>0</td>\n",
       "      <td>...</td>\n",
       "      <td>1</td>\n",
       "      <td>1</td>\n",
       "      <td>1</td>\n",
       "      <td>1</td>\n",
       "      <td>1</td>\n",
       "      <td>0</td>\n",
       "      <td>0</td>\n",
       "      <td>1</td>\n",
       "      <td>0</td>\n",
       "      <td>1</td>\n",
       "    </tr>\n",
       "    <tr>\n",
       "      <th>6557320</th>\n",
       "      <td>7663267</td>\n",
       "      <td>303</td>\n",
       "      <td>2013-10-26 00:00:00</td>\n",
       "      <td>6966</td>\n",
       "      <td>1.054313e+07</td>\n",
       "      <td>17934.445927</td>\n",
       "      <td>2013</td>\n",
       "      <td>10</td>\n",
       "      <td>26</td>\n",
       "      <td>0</td>\n",
       "      <td>...</td>\n",
       "      <td>1</td>\n",
       "      <td>1</td>\n",
       "      <td>1</td>\n",
       "      <td>1</td>\n",
       "      <td>1</td>\n",
       "      <td>0</td>\n",
       "      <td>0</td>\n",
       "      <td>1</td>\n",
       "      <td>0</td>\n",
       "      <td>1</td>\n",
       "    </tr>\n",
       "    <tr>\n",
       "      <th>6557321</th>\n",
       "      <td>5767884</td>\n",
       "      <td>303</td>\n",
       "      <td>2013-10-27 00:00:00</td>\n",
       "      <td>6966</td>\n",
       "      <td>1.054313e+07</td>\n",
       "      <td>17934.445927</td>\n",
       "      <td>2013</td>\n",
       "      <td>10</td>\n",
       "      <td>27</td>\n",
       "      <td>0</td>\n",
       "      <td>...</td>\n",
       "      <td>1</td>\n",
       "      <td>1</td>\n",
       "      <td>1</td>\n",
       "      <td>1</td>\n",
       "      <td>1</td>\n",
       "      <td>0</td>\n",
       "      <td>0</td>\n",
       "      <td>1</td>\n",
       "      <td>0</td>\n",
       "      <td>1</td>\n",
       "    </tr>\n",
       "    <tr>\n",
       "      <th>6557322</th>\n",
       "      <td>1631678</td>\n",
       "      <td>303</td>\n",
       "      <td>2013-10-28 00:00:00</td>\n",
       "      <td>6966</td>\n",
       "      <td>1.054313e+07</td>\n",
       "      <td>17934.445927</td>\n",
       "      <td>2013</td>\n",
       "      <td>10</td>\n",
       "      <td>28</td>\n",
       "      <td>0</td>\n",
       "      <td>...</td>\n",
       "      <td>1</td>\n",
       "      <td>1</td>\n",
       "      <td>1</td>\n",
       "      <td>1</td>\n",
       "      <td>1</td>\n",
       "      <td>0</td>\n",
       "      <td>0</td>\n",
       "      <td>1</td>\n",
       "      <td>0</td>\n",
       "      <td>1</td>\n",
       "    </tr>\n",
       "    <tr>\n",
       "      <th>6557323</th>\n",
       "      <td>3374714</td>\n",
       "      <td>303</td>\n",
       "      <td>2013-10-29 00:00:00</td>\n",
       "      <td>6966</td>\n",
       "      <td>1.054313e+07</td>\n",
       "      <td>17934.445927</td>\n",
       "      <td>2013</td>\n",
       "      <td>10</td>\n",
       "      <td>29</td>\n",
       "      <td>0</td>\n",
       "      <td>...</td>\n",
       "      <td>1</td>\n",
       "      <td>1</td>\n",
       "      <td>1</td>\n",
       "      <td>1</td>\n",
       "      <td>1</td>\n",
       "      <td>0</td>\n",
       "      <td>0</td>\n",
       "      <td>1</td>\n",
       "      <td>0</td>\n",
       "      <td>1</td>\n",
       "    </tr>\n",
       "  </tbody>\n",
       "</table>\n",
       "<p>350183 rows × 28 columns</p>\n",
       "</div>"
      ],
      "text/plain": [
       "          obs_id  SiteId           Timestamp  ForecastId         Value  \\\n",
       "900      4382312       2 2013-01-01 01:00:00           5  3.015996e+04   \n",
       "901      2016541       2 2013-01-01 02:00:00           5  2.979354e+04   \n",
       "902        78869       2 2013-01-01 03:00:00           5  3.168241e+04   \n",
       "903      1361014       2 2013-01-01 04:00:00           5  2.988183e+04   \n",
       "904       129169       2 2013-01-01 05:00:00           5  3.056033e+04   \n",
       "...          ...     ...                 ...         ...           ...   \n",
       "6557319  5653279     303 2013-10-25 00:00:00        6966  1.054313e+07   \n",
       "6557320  7663267     303 2013-10-26 00:00:00        6966  1.054313e+07   \n",
       "6557321  5767884     303 2013-10-27 00:00:00        6966  1.054313e+07   \n",
       "6557322  1631678     303 2013-10-28 00:00:00        6966  1.054313e+07   \n",
       "6557323  3374714     303 2013-10-29 00:00:00        6966  1.054313e+07   \n",
       "\n",
       "              Surface  Year  Month  Day  Hour  ...  MondayIsDayOff_False  \\\n",
       "900       6098.278376  2013      1    1     1  ...                     1   \n",
       "901       6098.278376  2013      1    1     2  ...                     1   \n",
       "902       6098.278376  2013      1    1     3  ...                     1   \n",
       "903       6098.278376  2013      1    1     4  ...                     1   \n",
       "904       6098.278376  2013      1    1     5  ...                     1   \n",
       "...               ...   ...    ...  ...   ...  ...                   ...   \n",
       "6557319  17934.445927  2013     10   25     0  ...                     1   \n",
       "6557320  17934.445927  2013     10   26     0  ...                     1   \n",
       "6557321  17934.445927  2013     10   27     0  ...                     1   \n",
       "6557322  17934.445927  2013     10   28     0  ...                     1   \n",
       "6557323  17934.445927  2013     10   29     0  ...                     1   \n",
       "\n",
       "         TuesdayIsDayOff_False  WednesdayIsDayOff_False  \\\n",
       "900                          1                        1   \n",
       "901                          1                        1   \n",
       "902                          1                        1   \n",
       "903                          1                        1   \n",
       "904                          1                        1   \n",
       "...                        ...                      ...   \n",
       "6557319                      1                        1   \n",
       "6557320                      1                        1   \n",
       "6557321                      1                        1   \n",
       "6557322                      1                        1   \n",
       "6557323                      1                        1   \n",
       "\n",
       "         ThursdayIsDayOff_False  FridayIsDayOff_False  FridayIsDayOff_True  \\\n",
       "900                           1                     1                    0   \n",
       "901                           1                     1                    0   \n",
       "902                           1                     1                    0   \n",
       "903                           1                     1                    0   \n",
       "904                           1                     1                    0   \n",
       "...                         ...                   ...                  ...   \n",
       "6557319                       1                     1                    0   \n",
       "6557320                       1                     1                    0   \n",
       "6557321                       1                     1                    0   \n",
       "6557322                       1                     1                    0   \n",
       "6557323                       1                     1                    0   \n",
       "\n",
       "         SaturdayIsDayOff_False  SaturdayIsDayOff_True  SundayIsDayOff_False  \\\n",
       "900                           0                      1                     0   \n",
       "901                           0                      1                     0   \n",
       "902                           0                      1                     0   \n",
       "903                           0                      1                     0   \n",
       "904                           0                      1                     0   \n",
       "...                         ...                    ...                   ...   \n",
       "6557319                       0                      1                     0   \n",
       "6557320                       0                      1                     0   \n",
       "6557321                       0                      1                     0   \n",
       "6557322                       0                      1                     0   \n",
       "6557323                       0                      1                     0   \n",
       "\n",
       "         SundayIsDayOff_True  \n",
       "900                        1  \n",
       "901                        1  \n",
       "902                        1  \n",
       "903                        1  \n",
       "904                        1  \n",
       "...                      ...  \n",
       "6557319                    1  \n",
       "6557320                    1  \n",
       "6557321                    1  \n",
       "6557322                    1  \n",
       "6557323                    1  \n",
       "\n",
       "[350183 rows x 28 columns]"
      ]
     },
     "execution_count": 16,
     "metadata": {},
     "output_type": "execute_result"
    }
   ],
   "source": [
    "data_reset "
   ]
  },
  {
   "cell_type": "code",
   "execution_count": 17,
   "metadata": {},
   "outputs": [],
   "source": [
    "train_1 = data_reset[data_reset['Timestamp']<'2013-08-15 00:00']\n",
    "test_1 = data_reset[data_reset['Timestamp']>='2013-08-15 00:00']"
   ]
  },
  {
   "cell_type": "code",
   "execution_count": 18,
   "metadata": {},
   "outputs": [
    {
     "name": "stdout",
     "output_type": "stream",
     "text": [
      "(271803, 28)\n",
      "(78380, 28)\n"
     ]
    }
   ],
   "source": [
    "print(train_1.shape)\n",
    "print(test_1.shape)"
   ]
  },
  {
   "cell_type": "code",
   "execution_count": 19,
   "metadata": {},
   "outputs": [],
   "source": [
    "x_train1 = train_1.drop(columns={'Timestamp','Value'},axis=1)\n",
    "y_train1 = train_1.loc[:,['Value']]\n",
    "\n",
    "x_val1=test_1.drop(columns={'Timestamp','Value'},axis=1)\n",
    "y_val1=test_1.loc[:,['Value']]"
   ]
  },
  {
   "cell_type": "code",
   "execution_count": 20,
   "metadata": {},
   "outputs": [
    {
     "data": {
      "text/html": [
       "<div>\n",
       "<style scoped>\n",
       "    .dataframe tbody tr th:only-of-type {\n",
       "        vertical-align: middle;\n",
       "    }\n",
       "\n",
       "    .dataframe tbody tr th {\n",
       "        vertical-align: top;\n",
       "    }\n",
       "\n",
       "    .dataframe thead th {\n",
       "        text-align: right;\n",
       "    }\n",
       "</style>\n",
       "<table border=\"1\" class=\"dataframe\">\n",
       "  <thead>\n",
       "    <tr style=\"text-align: right;\">\n",
       "      <th></th>\n",
       "      <th>obs_id</th>\n",
       "      <th>SiteId</th>\n",
       "      <th>ForecastId</th>\n",
       "      <th>Surface</th>\n",
       "      <th>Year</th>\n",
       "      <th>Month</th>\n",
       "      <th>Day</th>\n",
       "      <th>Hour</th>\n",
       "      <th>Minute</th>\n",
       "      <th>Sampling_5.0</th>\n",
       "      <th>...</th>\n",
       "      <th>MondayIsDayOff_False</th>\n",
       "      <th>TuesdayIsDayOff_False</th>\n",
       "      <th>WednesdayIsDayOff_False</th>\n",
       "      <th>ThursdayIsDayOff_False</th>\n",
       "      <th>FridayIsDayOff_False</th>\n",
       "      <th>FridayIsDayOff_True</th>\n",
       "      <th>SaturdayIsDayOff_False</th>\n",
       "      <th>SaturdayIsDayOff_True</th>\n",
       "      <th>SundayIsDayOff_False</th>\n",
       "      <th>SundayIsDayOff_True</th>\n",
       "    </tr>\n",
       "  </thead>\n",
       "  <tbody>\n",
       "    <tr>\n",
       "      <th>900</th>\n",
       "      <td>4382312</td>\n",
       "      <td>2</td>\n",
       "      <td>5</td>\n",
       "      <td>6098.278376</td>\n",
       "      <td>2013</td>\n",
       "      <td>1</td>\n",
       "      <td>1</td>\n",
       "      <td>1</td>\n",
       "      <td>0</td>\n",
       "      <td>0</td>\n",
       "      <td>...</td>\n",
       "      <td>1</td>\n",
       "      <td>1</td>\n",
       "      <td>1</td>\n",
       "      <td>1</td>\n",
       "      <td>1</td>\n",
       "      <td>0</td>\n",
       "      <td>0</td>\n",
       "      <td>1</td>\n",
       "      <td>0</td>\n",
       "      <td>1</td>\n",
       "    </tr>\n",
       "    <tr>\n",
       "      <th>901</th>\n",
       "      <td>2016541</td>\n",
       "      <td>2</td>\n",
       "      <td>5</td>\n",
       "      <td>6098.278376</td>\n",
       "      <td>2013</td>\n",
       "      <td>1</td>\n",
       "      <td>1</td>\n",
       "      <td>2</td>\n",
       "      <td>0</td>\n",
       "      <td>0</td>\n",
       "      <td>...</td>\n",
       "      <td>1</td>\n",
       "      <td>1</td>\n",
       "      <td>1</td>\n",
       "      <td>1</td>\n",
       "      <td>1</td>\n",
       "      <td>0</td>\n",
       "      <td>0</td>\n",
       "      <td>1</td>\n",
       "      <td>0</td>\n",
       "      <td>1</td>\n",
       "    </tr>\n",
       "    <tr>\n",
       "      <th>902</th>\n",
       "      <td>78869</td>\n",
       "      <td>2</td>\n",
       "      <td>5</td>\n",
       "      <td>6098.278376</td>\n",
       "      <td>2013</td>\n",
       "      <td>1</td>\n",
       "      <td>1</td>\n",
       "      <td>3</td>\n",
       "      <td>0</td>\n",
       "      <td>0</td>\n",
       "      <td>...</td>\n",
       "      <td>1</td>\n",
       "      <td>1</td>\n",
       "      <td>1</td>\n",
       "      <td>1</td>\n",
       "      <td>1</td>\n",
       "      <td>0</td>\n",
       "      <td>0</td>\n",
       "      <td>1</td>\n",
       "      <td>0</td>\n",
       "      <td>1</td>\n",
       "    </tr>\n",
       "    <tr>\n",
       "      <th>903</th>\n",
       "      <td>1361014</td>\n",
       "      <td>2</td>\n",
       "      <td>5</td>\n",
       "      <td>6098.278376</td>\n",
       "      <td>2013</td>\n",
       "      <td>1</td>\n",
       "      <td>1</td>\n",
       "      <td>4</td>\n",
       "      <td>0</td>\n",
       "      <td>0</td>\n",
       "      <td>...</td>\n",
       "      <td>1</td>\n",
       "      <td>1</td>\n",
       "      <td>1</td>\n",
       "      <td>1</td>\n",
       "      <td>1</td>\n",
       "      <td>0</td>\n",
       "      <td>0</td>\n",
       "      <td>1</td>\n",
       "      <td>0</td>\n",
       "      <td>1</td>\n",
       "    </tr>\n",
       "    <tr>\n",
       "      <th>904</th>\n",
       "      <td>129169</td>\n",
       "      <td>2</td>\n",
       "      <td>5</td>\n",
       "      <td>6098.278376</td>\n",
       "      <td>2013</td>\n",
       "      <td>1</td>\n",
       "      <td>1</td>\n",
       "      <td>5</td>\n",
       "      <td>0</td>\n",
       "      <td>0</td>\n",
       "      <td>...</td>\n",
       "      <td>1</td>\n",
       "      <td>1</td>\n",
       "      <td>1</td>\n",
       "      <td>1</td>\n",
       "      <td>1</td>\n",
       "      <td>0</td>\n",
       "      <td>0</td>\n",
       "      <td>1</td>\n",
       "      <td>0</td>\n",
       "      <td>1</td>\n",
       "    </tr>\n",
       "  </tbody>\n",
       "</table>\n",
       "<p>5 rows × 26 columns</p>\n",
       "</div>"
      ],
      "text/plain": [
       "      obs_id  SiteId  ForecastId      Surface  Year  Month  Day  Hour  Minute  \\\n",
       "900  4382312       2           5  6098.278376  2013      1    1     1       0   \n",
       "901  2016541       2           5  6098.278376  2013      1    1     2       0   \n",
       "902    78869       2           5  6098.278376  2013      1    1     3       0   \n",
       "903  1361014       2           5  6098.278376  2013      1    1     4       0   \n",
       "904   129169       2           5  6098.278376  2013      1    1     5       0   \n",
       "\n",
       "     Sampling_5.0  ...  MondayIsDayOff_False  TuesdayIsDayOff_False  \\\n",
       "900             0  ...                     1                      1   \n",
       "901             0  ...                     1                      1   \n",
       "902             0  ...                     1                      1   \n",
       "903             0  ...                     1                      1   \n",
       "904             0  ...                     1                      1   \n",
       "\n",
       "     WednesdayIsDayOff_False  ThursdayIsDayOff_False  FridayIsDayOff_False  \\\n",
       "900                        1                       1                     1   \n",
       "901                        1                       1                     1   \n",
       "902                        1                       1                     1   \n",
       "903                        1                       1                     1   \n",
       "904                        1                       1                     1   \n",
       "\n",
       "     FridayIsDayOff_True  SaturdayIsDayOff_False  SaturdayIsDayOff_True  \\\n",
       "900                    0                       0                      1   \n",
       "901                    0                       0                      1   \n",
       "902                    0                       0                      1   \n",
       "903                    0                       0                      1   \n",
       "904                    0                       0                      1   \n",
       "\n",
       "     SundayIsDayOff_False  SundayIsDayOff_True  \n",
       "900                     0                    1  \n",
       "901                     0                    1  \n",
       "902                     0                    1  \n",
       "903                     0                    1  \n",
       "904                     0                    1  \n",
       "\n",
       "[5 rows x 26 columns]"
      ]
     },
     "execution_count": 20,
     "metadata": {},
     "output_type": "execute_result"
    }
   ],
   "source": [
    "x_train1.head()"
   ]
  },
  {
   "cell_type": "code",
   "execution_count": 28,
   "metadata": {},
   "outputs": [],
   "source": [
    "from sklearn.preprocessing import MinMaxScaler"
   ]
  },
  {
   "cell_type": "code",
   "execution_count": 29,
   "metadata": {},
   "outputs": [],
   "source": [
    "train_a = x_train1.copy()\n",
    "train_b = y_train1.copy()\n",
    "\n",
    "test_c = x_val1.copy()\n",
    "test_d = y_val1.copy()"
   ]
  },
  {
   "cell_type": "code",
   "execution_count": 30,
   "metadata": {},
   "outputs": [],
   "source": [
    "scaler = MinMaxScaler()\n",
    "x_train_trans = scaler.fit_transform(train_a)\n",
    "test_trans = scaler.transform(test_c)"
   ]
  },
  {
   "cell_type": "code",
   "execution_count": 31,
   "metadata": {},
   "outputs": [],
   "source": [
    "y_train_trans = scaler.fit_transform(train_b)\n",
    "y_val_trans =scaler.fit_transform(test_d)"
   ]
  },
  {
   "cell_type": "code",
   "execution_count": 32,
   "metadata": {},
   "outputs": [],
   "source": [
    "x_train_va = np.array(x_train_trans)\n",
    "y_train_va = np.array(y_train_trans)\n",
    "\n",
    "x_val_va = np.array(test_trans)\n",
    "y_val_va = np.array(y_val_trans)"
   ]
  },
  {
   "cell_type": "code",
   "execution_count": 33,
   "metadata": {},
   "outputs": [],
   "source": [
    "x_train = np.array(x_train1)\n",
    "y_train = np.array(y_train1)\n",
    "\n",
    "x_val = np.array(x_val1)\n",
    "y_val = np.array(y_val1)"
   ]
  },
  {
   "cell_type": "code",
   "execution_count": 34,
   "metadata": {},
   "outputs": [],
   "source": [
    "lgb_params = {\n",
    "                    'boosting_type': 'gbdt',\n",
    "                    'objective': 'tweedie',\n",
    "                    'tweedie_variance_power': 1.1,\n",
    "                    'metric': 'rmse',\n",
    "                    'subsample': 0.5,\n",
    "                    'subsample_freq': 1,\n",
    "                    'learning_rate': 0.015,\n",
    "                    'num_leaves': 2**11-1,\n",
    "                    'min_data_in_leaf': 2**12-1,\n",
    "                    'feature_fraction': 0.5,\n",
    "                    'max_bin': 100,\n",
    "                    'n_estimators': 3000,\n",
    "                    'boost_from_average': False,\n",
    "                    'verbose': -1,\n",
    "                }"
   ]
  },
  {
   "cell_type": "code",
   "execution_count": 35,
   "metadata": {},
   "outputs": [],
   "source": [
    "lgb_train = lgb.Dataset(x_train_va, y_train_va)\n",
    "lgb_eval = lgb.Dataset(x_val_va, y_val_va)"
   ]
  },
  {
   "cell_type": "code",
   "execution_count": 36,
   "metadata": {},
   "outputs": [
    {
     "name": "stdout",
     "output_type": "stream",
     "text": [
      "[100]\tvalid_0's rmse: 0.197491\n",
      "[200]\tvalid_0's rmse: 0.0604429\n",
      "[300]\tvalid_0's rmse: 0.0313308\n",
      "[400]\tvalid_0's rmse: 0.0234372\n",
      "[500]\tvalid_0's rmse: 0.0192546\n",
      "[600]\tvalid_0's rmse: 0.0153104\n",
      "[700]\tvalid_0's rmse: 0.0132313\n",
      "[800]\tvalid_0's rmse: 0.0124625\n",
      "[900]\tvalid_0's rmse: 0.0120646\n",
      "[1000]\tvalid_0's rmse: 0.0118984\n",
      "[1100]\tvalid_0's rmse: 0.0118621\n",
      "[1200]\tvalid_0's rmse: 0.0117947\n",
      "[1300]\tvalid_0's rmse: 0.0117372\n",
      "[1400]\tvalid_0's rmse: 0.0117469\n",
      "[1500]\tvalid_0's rmse: 0.0117131\n",
      "[1600]\tvalid_0's rmse: 0.0116934\n",
      "[1700]\tvalid_0's rmse: 0.0116951\n",
      "[1800]\tvalid_0's rmse: 0.0116343\n",
      "[1900]\tvalid_0's rmse: 0.011632\n",
      "[2000]\tvalid_0's rmse: 0.0116105\n",
      "[2100]\tvalid_0's rmse: 0.0115992\n",
      "[2200]\tvalid_0's rmse: 0.0116227\n",
      "[2300]\tvalid_0's rmse: 0.0115979\n",
      "[2400]\tvalid_0's rmse: 0.0116134\n",
      "[2500]\tvalid_0's rmse: 0.0115616\n",
      "[2600]\tvalid_0's rmse: 0.0115741\n",
      "[2700]\tvalid_0's rmse: 0.0116405\n",
      "[2800]\tvalid_0's rmse: 0.011639\n",
      "[2900]\tvalid_0's rmse: 0.011665\n",
      "[3000]\tvalid_0's rmse: 0.0116884\n",
      "CPU times: user 4min 36s, sys: 3.19 s, total: 4min 39s\n",
      "Wall time: 39.3 s\n"
     ]
    }
   ],
   "source": [
    "%%time\n",
    "\n",
    "evals_result = {}\n",
    "\n",
    "model_DC = lgb.train(lgb_params, lgb_train,\n",
    "                      valid_sets=[lgb_eval], \n",
    "                      verbose_eval=100, \n",
    "                      evals_result=evals_result)"
   ]
  },
  {
   "cell_type": "code",
   "execution_count": 37,
   "metadata": {},
   "outputs": [
    {
     "data": {
      "text/plain": [
       "0.9381656093081585"
      ]
     },
     "execution_count": 37,
     "metadata": {},
     "output_type": "execute_result"
    }
   ],
   "source": [
    "pred=model_DC.predict(x_val_va)\n",
    "r2_score(y_val_va,pred)"
   ]
  },
  {
   "cell_type": "code",
   "execution_count": 38,
   "metadata": {},
   "outputs": [
    {
     "data": {
      "text/plain": [
       "0.00013661759214495173"
      ]
     },
     "execution_count": 38,
     "metadata": {},
     "output_type": "execute_result"
    }
   ],
   "source": [
    "mean_squared_error(y_val_va,pred)"
   ]
  },
  {
   "cell_type": "code",
   "execution_count": 39,
   "metadata": {},
   "outputs": [],
   "source": [
    "import sklearn.ensemble"
   ]
  },
  {
   "cell_type": "code",
   "execution_count": 40,
   "metadata": {},
   "outputs": [
    {
     "name": "stdout",
     "output_type": "stream",
     "text": [
      "CPU times: user 1min 25s, sys: 678 ms, total: 1min 25s\n",
      "Wall time: 1min 26s\n"
     ]
    },
    {
     "data": {
      "text/plain": [
       "RandomForestRegressor(random_state=0)"
      ]
     },
     "execution_count": 40,
     "metadata": {},
     "output_type": "execute_result"
    }
   ],
   "source": [
    "%%time\n",
    "rf = sklearn.ensemble.RandomForestRegressor(n_estimators=100, random_state=0)\n",
    "rf.fit(x_train_va, y_train_va)"
   ]
  },
  {
   "cell_type": "code",
   "execution_count": 41,
   "metadata": {},
   "outputs": [
    {
     "data": {
      "text/plain": [
       "0.9297208143240488"
      ]
     },
     "execution_count": 41,
     "metadata": {},
     "output_type": "execute_result"
    }
   ],
   "source": [
    "pred_rf = rf.predict(x_val_va)\n",
    "r2_score(y_val_va,pred_rf)"
   ]
  },
  {
   "cell_type": "code",
   "execution_count": 43,
   "metadata": {},
   "outputs": [
    {
     "data": {
      "text/plain": [
       "0.0001552756163282329"
      ]
     },
     "execution_count": 43,
     "metadata": {},
     "output_type": "execute_result"
    }
   ],
   "source": [
    "mean_squared_error(y_val_va,pred_rf)"
   ]
  },
  {
   "cell_type": "code",
   "execution_count": null,
   "metadata": {},
   "outputs": [],
   "source": []
  },
  {
   "cell_type": "code",
   "execution_count": 35,
   "metadata": {},
   "outputs": [],
   "source": [
    "x_train1 = x_train_trans.reshape(x_train_trans.shape[0],1,x_train_trans.shape[-1])\n",
    "x_test1 = test_trans.reshape(test_trans.shape[0],1,test_trans.shape[-1])"
   ]
  },
  {
   "cell_type": "code",
   "execution_count": 36,
   "metadata": {},
   "outputs": [
    {
     "name": "stderr",
     "output_type": "stream",
     "text": [
      "Using TensorFlow backend.\n"
     ]
    }
   ],
   "source": [
    "from sklearn.model_selection import train_test_split\n",
    "from sklearn.linear_model import LinearRegression\n",
    "from sklearn import linear_model\n",
    "\n",
    "from sklearn import preprocessing\n",
    "from tensorflow.keras import backend as K\n",
    "from tensorflow.keras.callbacks import ModelCheckpoint, EarlyStopping\n",
    "from tensorflow.keras.layers import Dense, LSTM, GRU, Dropout, BatchNormalization,SimpleRNN,Bidirectional\n",
    "from tensorflow.keras.models import Sequential\n",
    "from tensorflow.keras import regularizers\n",
    "\n",
    "from keras.layers import Convolution1D, MaxPool1D,Conv1D,MaxPooling1D\n",
    "\n",
    "import tensorflow as tf \n",
    "import matplotlib.pyplot as plt \n",
    "from tensorflow.keras import Sequential \n",
    "\n",
    "from tensorflow.keras import datasets, layers, models,Input\n",
    "import matplotlib.pyplot as plt\n",
    "\n",
    "from sklearn.preprocessing import MinMaxScaler \n",
    "from sklearn.metrics import mean_squared_error,mean_absolute_error, r2_score \n",
    "from tensorflow.keras.layers import Dense,LSTM,Dropout,GRU,SimpleRNN,Bidirectional \n",
    "from sklearn import metrics "
   ]
  },
  {
   "cell_type": "code",
   "execution_count": 38,
   "metadata": {},
   "outputs": [
    {
     "name": "stdout",
     "output_type": "stream",
     "text": [
      "Epoch 1/3\n",
      "2124/2124 [==============================] - 24s 11ms/step - loss: 0.0031 - val_loss: 2.1788e-04\n",
      "Epoch 2/3\n",
      "2124/2124 [==============================] - 25s 12ms/step - loss: 6.1565e-04 - val_loss: 1.6546e-04\n",
      "Epoch 3/3\n",
      "2124/2124 [==============================] - 26s 12ms/step - loss: 4.8971e-04 - val_loss: 1.8867e-04\n",
      "Model: \"sequential_1\"\n",
      "_________________________________________________________________\n",
      "Layer (type)                 Output Shape              Param #   \n",
      "=================================================================\n",
      "batch_normalization_2 (Batch multiple                  104       \n",
      "_________________________________________________________________\n",
      "bidirectional_2 (Bidirection multiple                  158720    \n",
      "_________________________________________________________________\n",
      "dropout_2 (Dropout)          multiple                  0         \n",
      "_________________________________________________________________\n",
      "batch_normalization_3 (Batch multiple                  1024      \n",
      "_________________________________________________________________\n",
      "bidirectional_3 (Bidirection multiple                  394240    \n",
      "_________________________________________________________________\n",
      "dropout_3 (Dropout)          multiple                  0         \n",
      "_________________________________________________________________\n",
      "dense_1 (Dense)              multiple                  257       \n",
      "=================================================================\n",
      "Total params: 554,345\n",
      "Trainable params: 553,781\n",
      "Non-trainable params: 564\n",
      "_________________________________________________________________\n",
      "CPU times: user 3min 27s, sys: 1min 24s, total: 4min 52s\n",
      "Wall time: 1min 19s\n"
     ]
    }
   ],
   "source": [
    "%%time\n",
    "\n",
    "np.random.seed(0)\n",
    "tf.random.set_seed(0)\n",
    "\n",
    "#LSTM model\n",
    "\n",
    "model = tf.keras.Sequential([ \n",
    " BatchNormalization(),\n",
    " Bidirectional(LSTM(128, return_sequences=True,activation='relu')),\n",
    "#  SimpleRNN(64, return_sequences=True,activation='linear'),\n",
    " Dropout(0.2), \n",
    " BatchNormalization(),\n",
    " Bidirectional(LSTM(128,return_sequences=False)),\n",
    " Dropout(0.2), \n",
    " Dense(1) \n",
    "]) \n",
    "\n",
    "model.compile(loss='mse', optimizer='adam') \n",
    "\n",
    "# history = model.fit(x_train, y_train, batch_size=5260, epochs=1, validation_data=(x_test, y_test))\n",
    "history = model.fit(x_train1, y_train_trans, batch_size=128, epochs=3,validation_data=(x_test1, y_val_trans)) \n",
    "# model.build(input_shape=(128,1,27))\n",
    "model.summary()"
   ]
  },
  {
   "cell_type": "code",
   "execution_count": 39,
   "metadata": {},
   "outputs": [
    {
     "data": {
      "text/plain": [
       "0.00018867427305597117"
      ]
     },
     "execution_count": 39,
     "metadata": {},
     "output_type": "execute_result"
    }
   ],
   "source": [
    "pred_lstm=model.predict(x_test1)\n",
    "\n",
    "mean_squared_error(y_val_trans,pred_lstm)"
   ]
  },
  {
   "cell_type": "code",
   "execution_count": 41,
   "metadata": {},
   "outputs": [
    {
     "data": {
      "text/plain": [
       "0.914604272184333"
      ]
     },
     "execution_count": 41,
     "metadata": {},
     "output_type": "execute_result"
    }
   ],
   "source": [
    "r2_score(y_val_trans,pred_lstm)"
   ]
  },
  {
   "cell_type": "code",
   "execution_count": null,
   "metadata": {},
   "outputs": [],
   "source": []
  },
  {
   "cell_type": "code",
   "execution_count": 65,
   "metadata": {},
   "outputs": [
    {
     "name": "stdout",
     "output_type": "stream",
     "text": [
      "Epoch 1/5\n",
      "2124/2124 [==============================] - 11s 5ms/step - loss: 0.0287 - val_loss: 0.0016\n",
      "Epoch 2/5\n",
      "2124/2124 [==============================] - 10s 5ms/step - loss: 0.0040 - val_loss: 0.0012\n",
      "Epoch 3/5\n",
      "2124/2124 [==============================] - 10s 5ms/step - loss: 0.0022 - val_loss: 6.6278e-04\n",
      "Epoch 4/5\n",
      "2124/2124 [==============================] - 11s 5ms/step - loss: 0.0016 - val_loss: 0.0014\n",
      "Epoch 5/5\n",
      "2124/2124 [==============================] - 11s 5ms/step - loss: 0.0013 - val_loss: 3.1031e-04\n",
      "Model: \"sequential_9\"\n",
      "_________________________________________________________________\n",
      "Layer (type)                 Output Shape              Param #   \n",
      "=================================================================\n",
      "batch_normalization_18 (Batc multiple                  104       \n",
      "_________________________________________________________________\n",
      "bidirectional_18 (Bidirectio multiple                  39680     \n",
      "_________________________________________________________________\n",
      "dropout_18 (Dropout)         multiple                  0         \n",
      "_________________________________________________________________\n",
      "batch_normalization_19 (Batc multiple                  1024      \n",
      "_________________________________________________________________\n",
      "bidirectional_19 (Bidirectio multiple                  98560     \n",
      "_________________________________________________________________\n",
      "dropout_19 (Dropout)         multiple                  0         \n",
      "_________________________________________________________________\n",
      "dense_9 (Dense)              multiple                  257       \n",
      "=================================================================\n",
      "Total params: 139,625\n",
      "Trainable params: 139,061\n",
      "Non-trainable params: 564\n",
      "_________________________________________________________________\n",
      "CPU times: user 2min 8s, sys: 47.9 s, total: 2min 56s\n",
      "Wall time: 55.2 s\n"
     ]
    }
   ],
   "source": [
    "%%time\n",
    "np.random.seed(0)\n",
    "tf.random.set_seed(0)\n",
    "\n",
    "#RNN model\n",
    "\n",
    "model_rnn = tf.keras.Sequential([ \n",
    " BatchNormalization(),\n",
    " Bidirectional(SimpleRNN(128, return_sequences=True,activation='relu')),\n",
    "#  SimpleRNN(64, return_sequences=True,activation='linear'),\n",
    " Dropout(0.2), \n",
    " BatchNormalization(),\n",
    " Bidirectional(SimpleRNN(128,return_sequences=False)),\n",
    " Dropout(0.2), \n",
    " Dense(1) \n",
    "]) \n",
    "\n",
    "model_rnn.compile(loss='mse', optimizer='adam') \n",
    "\n",
    "# history = model.fit(x_train, y_train, batch_size=5260, epochs=1, validation_data=(x_test, y_test))\n",
    "history_rnn = model_rnn.fit(x_train1, y_train_trans, batch_size=128, epochs=5,validation_data=(x_test1, y_val_trans)) \n",
    "# model.build(input_shape=(128,1,27))\n",
    "model_rnn.summary()"
   ]
  },
  {
   "cell_type": "code",
   "execution_count": 66,
   "metadata": {},
   "outputs": [
    {
     "data": {
      "text/plain": [
       "0.0003103134542792522"
      ]
     },
     "execution_count": 66,
     "metadata": {},
     "output_type": "execute_result"
    }
   ],
   "source": [
    "pred_rnn=model_rnn.predict(x_test1)\n",
    "\n",
    "mean_squared_error(y_val_trans,pred_rnn)"
   ]
  },
  {
   "cell_type": "code",
   "execution_count": 67,
   "metadata": {},
   "outputs": [
    {
     "data": {
      "text/plain": [
       "0.8595492493493841"
      ]
     },
     "execution_count": 67,
     "metadata": {},
     "output_type": "execute_result"
    }
   ],
   "source": [
    "r2_score(y_val_trans,pred_rnn)"
   ]
  },
  {
   "cell_type": "code",
   "execution_count": null,
   "metadata": {},
   "outputs": [],
   "source": []
  },
  {
   "cell_type": "code",
   "execution_count": 68,
   "metadata": {},
   "outputs": [
    {
     "name": "stdout",
     "output_type": "stream",
     "text": [
      "Epoch 1/5\n",
      "2124/2124 [==============================] - 20s 9ms/step - loss: 0.0081 - val_loss: 3.5713e-04\n",
      "Epoch 2/5\n",
      "2124/2124 [==============================] - 22s 10ms/step - loss: 9.0575e-04 - val_loss: 2.7037e-04\n",
      "Epoch 3/5\n",
      "2124/2124 [==============================] - 21s 10ms/step - loss: 6.6666e-04 - val_loss: 2.4510e-04\n",
      "Epoch 4/5\n",
      "2124/2124 [==============================] - 21s 10ms/step - loss: 4.8599e-04 - val_loss: 1.7282e-04\n",
      "Epoch 5/5\n",
      "2124/2124 [==============================] - 21s 10ms/step - loss: 4.5190e-04 - val_loss: 1.8429e-04\n",
      "Model: \"sequential_10\"\n",
      "_________________________________________________________________\n",
      "Layer (type)                 Output Shape              Param #   \n",
      "=================================================================\n",
      "batch_normalization_20 (Batc multiple                  104       \n",
      "_________________________________________________________________\n",
      "bidirectional_20 (Bidirectio multiple                  119808    \n",
      "_________________________________________________________________\n",
      "dropout_20 (Dropout)         multiple                  0         \n",
      "_________________________________________________________________\n",
      "batch_normalization_21 (Batc multiple                  1024      \n",
      "_________________________________________________________________\n",
      "bidirectional_21 (Bidirectio multiple                  296448    \n",
      "_________________________________________________________________\n",
      "dropout_21 (Dropout)         multiple                  0         \n",
      "_________________________________________________________________\n",
      "dense_10 (Dense)             multiple                  257       \n",
      "=================================================================\n",
      "Total params: 417,641\n",
      "Trainable params: 417,077\n",
      "Non-trainable params: 564\n",
      "_________________________________________________________________\n",
      "CPU times: user 4min 49s, sys: 2min 1s, total: 6min 51s\n",
      "Wall time: 1min 48s\n"
     ]
    }
   ],
   "source": [
    "%%time\n",
    "np.random.seed(0)\n",
    "tf.random.set_seed(0)\n",
    "\n",
    "#GRU model\n",
    "\n",
    "model_gru = tf.keras.Sequential([ \n",
    " BatchNormalization(),\n",
    " Bidirectional(GRU(128, return_sequences=True,activation='relu')),\n",
    "#  SimpleRNN(64, return_sequences=True,activation='linear'),\n",
    " Dropout(0.2), \n",
    " BatchNormalization(),\n",
    " Bidirectional(GRU(128,return_sequences=False)),\n",
    " Dropout(0.2), \n",
    " Dense(1) \n",
    "]) \n",
    "\n",
    "model_gru.compile(loss='mse', optimizer='adam') \n",
    "\n",
    "# history = model.fit(x_train, y_train, batch_size=5260, epochs=1, validation_data=(x_test, y_test))\n",
    "history_gru = model_gru.fit(x_train1, y_train_trans, batch_size=128, epochs=5,validation_data=(x_test1, y_val_trans)) \n",
    "# model.build(input_shape=(128,1,27))\n",
    "model_gru.summary()"
   ]
  },
  {
   "cell_type": "code",
   "execution_count": 69,
   "metadata": {},
   "outputs": [
    {
     "data": {
      "text/plain": [
       "0.00018428657939782245"
      ]
     },
     "execution_count": 69,
     "metadata": {},
     "output_type": "execute_result"
    }
   ],
   "source": [
    "pred_gru=model_gru.predict(x_test1)\n",
    "\n",
    "mean_squared_error(y_val_trans,pred_gru)"
   ]
  },
  {
   "cell_type": "code",
   "execution_count": 70,
   "metadata": {},
   "outputs": [
    {
     "data": {
      "text/plain": [
       "0.9165901830735121"
      ]
     },
     "execution_count": 70,
     "metadata": {},
     "output_type": "execute_result"
    }
   ],
   "source": [
    "r2_score(y_val_trans,pred_gru)"
   ]
  },
  {
   "cell_type": "code",
   "execution_count": null,
   "metadata": {},
   "outputs": [],
   "source": []
  }
 ],
 "metadata": {
  "kernelspec": {
   "display_name": "Python 3",
   "language": "python",
   "name": "python3"
  },
  "language_info": {
   "codemirror_mode": {
    "name": "ipython",
    "version": 3
   },
   "file_extension": ".py",
   "mimetype": "text/x-python",
   "name": "python",
   "nbconvert_exporter": "python",
   "pygments_lexer": "ipython3",
   "version": "3.8.5"
  }
 },
 "nbformat": 4,
 "nbformat_minor": 4
}
